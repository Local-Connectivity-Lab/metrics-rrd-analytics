{
 "cells": [
  {
   "cell_type": "code",
   "execution_count": null,
   "id": "d7f64d9c",
   "metadata": {},
   "outputs": [],
   "source": [
    "%matplotlib inline\n",
    "\n",
    "%load_ext autoreload\n",
    "%autoreload 2\n",
    "\n",
    "## Stdlib\n",
    "from collections import defaultdict, namedtuple\n",
    "import math\n",
    "import os\n",
    "import tempfile\n",
    "\n",
    "## Non-std libs\n",
    "import matplotlib.pyplot as plt\n",
    "import pandas as pd\n",
    "\n",
    "## Local modules\n",
    "from scn_rrd import rrd_meta_utils, rrd_utils"
   ]
  },
  {
   "cell_type": "markdown",
   "id": "59cce33a",
   "metadata": {},
   "source": [
    "### Data rate consumed"
   ]
  },
  {
   "cell_type": "code",
   "execution_count": null,
   "id": "8ede6d7c",
   "metadata": {},
   "outputs": [],
   "source": [
    "locations = [\n",
    "    'FCS',\n",
    "#     'lihi-southend', # Excluded b/c accounted for at OCC.\n",
    "    'nickelsville-cd',\n",
    "    'northlake',\n",
    "    'occ-oromo',\n",
    "    'sps-franklin',\n",
    "    'sps-garfield',\n",
    "]\n",
    "portGroups = [\n",
    "    'epc-backhaul-interface',\n",
    "    'backhaul-interface',\n",
    "]\n",
    "\n",
    "meta = rrd_meta_utils.read_meta()\n",
    "meta = meta[\n",
    "    ( meta['location'].isin(locations) ) &\n",
    "    ( meta['port_group_name'].isin(portGroups) )\n",
    "]"
   ]
  },
  {
   "cell_type": "code",
   "execution_count": null,
   "id": "1912a38b",
   "metadata": {},
   "outputs": [],
   "source": [
    "portId_to_consumeDf = {\n",
    "    row['port_id'] :\n",
    "    rrd_utils.read_rrd(row['hostname'], row['port_rrd_filename'], '-1month')\n",
    "    for (_, row) in meta.iterrows()\n",
    "}"
   ]
  },
  {
   "cell_type": "code",
   "execution_count": null,
   "id": "2569d189",
   "metadata": {},
   "outputs": [],
   "source": [
    "## Merge all ports for each device.\n",
    "deviceHostname_to_consumeDf = dict()\n",
    "for (_, row) in meta.iterrows():\n",
    "    (deviceHostname, port_id) = row[[ 'hostname', 'port_id' ]]\n",
    "    df = deviceHostname_to_consumeDf.get(deviceHostname, pd.DataFrame())\n",
    "    port_df = portId_to_consumeDf[port_id]\n",
    "    df = pd.concat([ df, port_df ], axis=0, ignore_index=True)\n",
    "    deviceHostname_to_consumeDf[deviceHostname] = df"
   ]
  },
  {
   "cell_type": "code",
   "execution_count": null,
   "id": "e9822f6d",
   "metadata": {},
   "outputs": [],
   "source": [
    "axez_ct = len(deviceHostname_to_consumeDf)\n",
    "fig, axez = plt.subplots(nrows=axez_ct, figsize=(12, 3 * axez_ct), constrained_layout=True)\n",
    "for (ax, (deviceHostname, df)) in zip(axez, deviceHostname_to_consumeDf.items()):\n",
    "    dt_sec = (df['time'][1] - df['time'][0]).seconds\n",
    "    df_monthly = (\n",
    "        df[['time', 'INOCTETS', 'OUTOCTETS']]\n",
    "        .groupby(by=pd.Grouper(key='time', freq='D'))\n",
    "        .sum()\n",
    "        / pow(2, 30) * dt_sec\n",
    "    )\n",
    "    df_monthly.index = df_monthly.index.to_period('D')  # Format x ticks.\n",
    "    df_monthly.plot(\n",
    "        ax=ax,\n",
    "        kind='bar',\n",
    "        title=deviceHostname,\n",
    "        xlabel='',\n",
    "        ylabel='Gigabyte',\n",
    "    )\n",
    "fig.suptitle('Daily data usage')\n",
    ";"
   ]
  },
  {
   "cell_type": "markdown",
   "id": "98915f7c",
   "metadata": {},
   "source": [
    "### Data rate capacity (aka speedtest)"
   ]
  },
  {
   "cell_type": "code",
   "execution_count": null,
   "id": "fa87b72b",
   "metadata": {},
   "outputs": [],
   "source": [
    "MonitorDevice = namedtuple('MonitorDevice', ['location_label', 'login_env_key', 'consump_measure_hostname'])\n",
    "monitor_devices = [\n",
    "#     MonitorDevice('CD', 'CD_MON_LOGIN', 'CD-BackhaulGateway-hEXS'),\n",
    "#     MonitorDevice('Franklin', 'FRANKLIN_MON_LOGIN', 'Franklin-EPC'),\n",
    "#     MonitorDevice('Southend', 'SOUTHEND_MON_LOGIN', 'OCC-EPC'),\n",
    "    # TODO above\n",
    "    MonitorDevice('FCS', 'FCS_MON_LOGIN', 'FCS-EPC'),\n",
    "]"
   ]
  },
  {
   "cell_type": "code",
   "execution_count": null,
   "id": "a0310495",
   "metadata": {},
   "outputs": [],
   "source": [
    "## Copy RRD files local to monitoring devices.\n",
    "## In the future, we should deliver data from monitoring devices to LibreNMS, perhaps using SNMP Trap.\n",
    "\n",
    "location_to_rrdName_to_capDf = defaultdict(dict)\n",
    "for mondev in monitor_devices:\n",
    "    login = rrd_meta_utils.DOTENV_ENTRIES[mondev.login_env_key]\n",
    "    (addr, user, pw) = login.split('%%%%')\n",
    "    \n",
    "    for rrdName in ['down_rate', 'up_rate']:\n",
    "        remote_rrd_filepath = f\"~/speedtest/rrd/{rrdName}.rrd\"\n",
    "        \n",
    "        with tempfile.NamedTemporaryFile() as f:\n",
    "            scp_cmd = f\"sshpass -p '{pw}' scp {user}@{addr}:{remote_rrd_filepath} {f.name}\"\n",
    "            ret = os.system(scp_cmd)\n",
    "            assert ret == 0\n",
    "            \n",
    "            df = rrd_utils.rrd_to_dataframe(f.name, '-1month')\n",
    "\n",
    "        location_to_rrdName_to_capDf[mondev.location_label][rrdName] = df"
   ]
  },
  {
   "cell_type": "code",
   "execution_count": null,
   "id": "ba4d421d",
   "metadata": {},
   "outputs": [],
   "source": [
    "(fig, ax) = plt.subplots(figsize=(12, 6))\n",
    "for mondev in monitor_devices:\n",
    "    down = location_to_rrdName_to_capDf[mondev.location_label]['down_rate']\n",
    "    ax.plot(down['time'], down['down_rate'], label='inbound')\n",
    "    \n",
    "    up = location_to_rrdName_to_capDf[mondev.location_label]['up_rate']\n",
    "    ax.plot(up['time'], up['up_rate'], label='outbound')\n",
    "ax.legend()\n",
    "fig.suptitle('Capacity');"
   ]
  },
  {
   "cell_type": "code",
   "execution_count": null,
   "id": "57230023",
   "metadata": {},
   "outputs": [],
   "source": [
    "def utilization(consume_df: pd.DataFrame, capacity_df: pd.DataFrame, factor: float) -> pd.DataFrame:\n",
    "    '''\n",
    "    @arg consume_df and capacity_df:\n",
    "        Each DF should have two columns,\n",
    "        1st column containing time, and\n",
    "        2nd column containing quantity (float).\n",
    "    @return:\n",
    "        1st column contains time, unmodified from @arg consume_df.\n",
    "        2nd column contains (consumed quantity / capacity quantity),\n",
    "            where capacity quantity comes from the last measurement at or before the time.\n",
    "    '''\n",
    "    cap_i = 0\n",
    "    cap_n = len(capacity_df)\n",
    "    \n",
    "    perc_rows = []\n",
    "    \n",
    "    for (_, (consu_time, consu_quant)) in consume_df.iterrows():\n",
    "        if pd.isna(consu_quant):\n",
    "            continue\n",
    "        \n",
    "        while cap_i < cap_n and capacity_df.iloc[cap_i][0] <= consu_time:\n",
    "            cap_i += 1\n",
    "\n",
    "        if cap_i == 0:\n",
    "            # No capacity was recorded before the current consumption timestamp.\n",
    "            continue\n",
    "\n",
    "        (cap_time, cap_quant) = capacity_df.iloc[cap_i-1]\n",
    "        if pd.isna(cap_quant):\n",
    "            # No capacity was recorded just before the current consumption timestamp.\n",
    "            continue\n",
    "\n",
    "        perc = consu_quant / cap_quant * factor\n",
    "        perc_row = (consu_time, perc)\n",
    "        perc_rows.append(perc_row)\n",
    "\n",
    "    return pd.DataFrame(perc_rows, columns=['time', 'utilization'])"
   ]
  },
  {
   "cell_type": "code",
   "execution_count": null,
   "id": "5c33d42d",
   "metadata": {},
   "outputs": [],
   "source": [
    "(fig, ax) = plt.subplots(figsize=(12, 6))\n",
    "for mondev in monitor_devices:\n",
    "    consume_bytesPerSec_df = deviceHostname_to_consumeDf[mondev.consump_measure_hostname][['time', 'INOCTETS']]\n",
    "    cap_MegabitsPerSec_df = location_to_rrdName_to_capDf[mondev.location_label]['down_rate']\n",
    "    utilzn_df = utilization(consume_bytesPerSec_df, cap_MegabitsPerSec_df, 1/8 / pow(2, 20))\n",
    "    ax.plot(utilzn_df['time'], utilzn_df['utilization'], label='inbound')\n",
    "    \n",
    "    consume_bytesPerSec_df = deviceHostname_to_consumeDf[mondev.consump_measure_hostname][['time', 'OUTOCTETS']]\n",
    "    cap_MegabitsPerSec_df = location_to_rrdName_to_capDf[mondev.location_label]['up_rate']\n",
    "    utilzn_df = utilization(consume_bytesPerSec_df, cap_MegabitsPerSec_df, 1/8 / pow(2, 20))\n",
    "    ax.plot(utilzn_df['time'], utilzn_df['utilization'], label='outbound')\n",
    "ax.legend()\n",
    "fig.suptitle('Utilization');"
   ]
  },
  {
   "cell_type": "code",
   "execution_count": null,
   "id": "3045e808",
   "metadata": {},
   "outputs": [],
   "source": []
  }
 ],
 "metadata": {
  "kernelspec": {
   "display_name": "Python 3 (ipykernel)",
   "language": "python",
   "name": "python3"
  },
  "language_info": {
   "codemirror_mode": {
    "name": "ipython",
    "version": 3
   },
   "file_extension": ".py",
   "mimetype": "text/x-python",
   "name": "python",
   "nbconvert_exporter": "python",
   "pygments_lexer": "ipython3",
   "version": "3.11.1"
  }
 },
 "nbformat": 4,
 "nbformat_minor": 5
}
