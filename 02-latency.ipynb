{
 "cells": [
  {
   "cell_type": "code",
   "execution_count": null,
   "id": "5719de4f",
   "metadata": {},
   "outputs": [],
   "source": [
    "%matplotlib inline\n",
    "\n",
    "%load_ext autoreload\n",
    "%autoreload 2\n",
    "\n",
    "## Non-std libs\n",
    "import matplotlib.pyplot as plt\n",
    "\n",
    "## Local libs\n",
    "from scn_rrd import rrd_utils"
   ]
  },
  {
   "cell_type": "markdown",
   "id": "2e96f04a",
   "metadata": {},
   "source": [
    "References\n",
    "- https://github.com/librenms/librenms/blob/master/LibreNMS/Data/Source/FpingResponse.php :: `__construct()`\n",
    "- https://github.com/librenms/librenms/blob/fb3c2ecb1c9275108058e76e8af6f145a92235e7/LibreNMS/Polling/ConnectivityHelper.php :: `savePingStats()`"
   ]
  },
  {
   "cell_type": "code",
   "execution_count": null,
   "id": "bb849c06",
   "metadata": {},
   "outputs": [],
   "source": [
    "site_to_df = rrd_utils.collect_rrd_dataframes('ping', '-6month')\n",
    "\n",
    "fig, ax = plt.subplots()\n",
    "for (site, df) in site_to_df.items():\n",
    "    ax.plot(df['time'], df['ping'], label=f'{site}')\n",
    "ax.set_title('EPC latency')\n",
    "ax.set_ylabel('millisec')\n",
    "ax.legend()"
   ]
  },
  {
   "cell_type": "code",
   "execution_count": null,
   "id": "00e4c174",
   "metadata": {},
   "outputs": [],
   "source": []
  }
 ],
 "metadata": {
  "kernelspec": {
   "display_name": "Python 3 (ipykernel)",
   "language": "python",
   "name": "python3"
  },
  "language_info": {
   "codemirror_mode": {
    "name": "ipython",
    "version": 3
   },
   "file_extension": ".py",
   "mimetype": "text/x-python",
   "name": "python",
   "nbconvert_exporter": "python",
   "pygments_lexer": "ipython3",
   "version": "3.11.1"
  }
 },
 "nbformat": 4,
 "nbformat_minor": 5
}
