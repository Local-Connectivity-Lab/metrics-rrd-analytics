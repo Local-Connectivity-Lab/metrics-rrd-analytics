{
 "cells": [
  {
   "cell_type": "code",
   "execution_count": null,
   "id": "d7f64d9c",
   "metadata": {},
   "outputs": [],
   "source": [
    "%matplotlib inline\n",
    "\n",
    "%load_ext autoreload\n",
    "%autoreload 2\n",
    "\n",
    "## Stdlib\n",
    "from collections import defaultdict, namedtuple\n",
    "import math\n",
    "import os\n",
    "import tempfile\n",
    "\n",
    "## Non-std libs\n",
    "from matplotlib.colors import hsv_to_rgb\n",
    "import matplotlib.pyplot as plt\n",
    "import pandas as pd\n",
    "\n",
    "## Local modules\n",
    "from scn_rrd import rrd_meta_utils, rrd_utils, rrd_utils_stdout, plot_utils"
   ]
  },
  {
   "cell_type": "markdown",
   "id": "59cce33a",
   "metadata": {},
   "source": [
    "### Data rate consumption"
   ]
  },
  {
   "cell_type": "code",
   "execution_count": null,
   "id": "8ede6d7c",
   "metadata": {},
   "outputs": [],
   "source": [
    "locations = [\n",
    "    'FCS',\n",
    "    'nickelsville-cd',\n",
    "    'northlake',\n",
    "    'occ-oromo',\n",
    "    'sps-franklin',\n",
    "    'sps-garfield',\n",
    "]\n",
    "portGroups = [\n",
    "    'epc-backhaul-interface',\n",
    "    'backhaul-interface',\n",
    "]\n",
    "\n",
    "meta = rrd_meta_utils.read_meta()\n",
    "meta = meta[\n",
    "    ( meta['location'].isin(locations) ) &\n",
    "    ( meta['port_group_name'].isin(portGroups) )\n",
    "]"
   ]
  },
  {
   "cell_type": "code",
   "execution_count": null,
   "id": "1912a38b",
   "metadata": {},
   "outputs": [],
   "source": [
    "portId_to_consumeDf = {\n",
    "    row['port_id'] :\n",
    "    rrd_utils.read_rrd_via_scp(row['hostname'], row['port_rrd_filename'], '-1month')\n",
    "    for (_, row) in meta.iterrows()\n",
    "}"
   ]
  },
  {
   "cell_type": "code",
   "execution_count": null,
   "id": "2569d189",
   "metadata": {},
   "outputs": [],
   "source": [
    "## Merge all ports for each device.\n",
    "location_to_consumeDf = dict()\n",
    "for (_, row) in meta.iterrows():\n",
    "    (location, port_id) = row[[ 'location', 'port_id' ]]\n",
    "    df = location_to_consumeDf.get(location, pd.DataFrame())\n",
    "    port_df = portId_to_consumeDf[port_id]\n",
    "    df = pd.concat([ df, port_df ], axis=0, ignore_index=True)\n",
    "    location_to_consumeDf[location] = df"
   ]
  },
  {
   "cell_type": "code",
   "execution_count": null,
   "id": "ee295345",
   "metadata": {},
   "outputs": [],
   "source": [
    "(fig, ax) = plt.subplots(figsize=(12, 6))\n",
    "for (location, consumeDf) in location_to_consumeDf.items():\n",
    "    dt_sec = (consumeDf['time'][1] - consumeDf['time'][0]).seconds\n",
    "    factor = dt_sec / pow(2, 30) # Raw byte/sec --> byte --> GB.\n",
    "\n",
    "    aggr_df = (\n",
    "        consumeDf[['time', 'INOCTETS', 'OUTOCTETS']]\n",
    "        .groupby(by=pd.Grouper(key='time', freq='D'))\n",
    "        .sum()\n",
    "        * factor\n",
    "    )\n",
    "    \n",
    "    color_h = plot_utils.LOC_TO_COLOR_H[location]\n",
    "    aggr_df['INOCTETS'].plot(ax=ax, label=f\"{location} downloads\", color=hsv_to_rgb((color_h, 0.5, 1)))\n",
    "    aggr_df['OUTOCTETS'].plot(ax=ax, label=f\"{location} uploads\", color=hsv_to_rgb((color_h, 1, 1)))\n",
    "ax.set_title('Daily consumption')\n",
    "ax.set_ylabel('Gigabyte')\n",
    "ax.set_xlabel('Day')\n",
    "ax.legend()\n",
    "None # Hide stdout output of the above line"
   ]
  },
  {
   "cell_type": "code",
   "execution_count": null,
   "id": "20a389d2",
   "metadata": {},
   "outputs": [],
   "source": [
    "(fig, ax) = plt.subplots(figsize=(12, 6))\n",
    "for (location, consumeDf) in location_to_consumeDf.items():\n",
    "    dt_sec = (consumeDf['time'][1] - consumeDf['time'][0]).seconds\n",
    "    days = ( max(consumeDf['time']) - min(consumeDf['time']) ).days\n",
    "    factor = dt_sec / pow(2, 30) / days # Raw byte/sec --> byte --> GB --> GB/day.\n",
    "\n",
    "    aggr_df = (\n",
    "        consumeDf[['time', 'INOCTETS', 'OUTOCTETS']]\n",
    "        .groupby(consumeDf['time'].dt.hour)\n",
    "        .sum(numeric_only=True)\n",
    "        * factor\n",
    "    )\n",
    "\n",
    "    color_h = plot_utils.LOC_TO_COLOR_H[location]\n",
    "    aggr_df['INOCTETS'].plot(ax=ax, label=f\"{location} downloads\", color=hsv_to_rgb((color_h, 0.5, 1)))\n",
    "    aggr_df['OUTOCTETS'].plot(ax=ax, label=f\"{location} uploads\", color=hsv_to_rgb((color_h, 1, 1)))\n",
    "ax.set_title('Average hourly consumption')\n",
    "ax.set_ylabel('Gigabyte')\n",
    "ax.set_xlabel('Hour')\n",
    "ax.legend()\n",
    "None # Hide stdout output of the above line"
   ]
  },
  {
   "cell_type": "markdown",
   "id": "98915f7c",
   "metadata": {},
   "source": [
    "### Data rate capacity (aka speedtest)"
   ]
  },
  {
   "cell_type": "code",
   "execution_count": null,
   "id": "fa87b72b",
   "metadata": {},
   "outputs": [],
   "source": [
    "MonitorDevice = namedtuple('MonitorDevice', ['location', 'login_env_key'])\n",
    "monitor_devices = [\n",
    "    MonitorDevice('nickelsville-cd', 'CD_MON_LOGIN'),\n",
    "    MonitorDevice('sps-franklin', 'FRANKLIN_MON_LOGIN'),\n",
    "#     MonitorDevice('lihi-southend', 'SOUTHEND_MON_LOGIN'),\n",
    "    MonitorDevice('FCS', 'FCS_MON_LOGIN'),\n",
    "]\n",
    "# We cannot get a reliable ssh session with the southend device. Neither the scp way nor the stdout way works."
   ]
  },
  {
   "cell_type": "code",
   "execution_count": null,
   "id": "a0310495",
   "metadata": {},
   "outputs": [],
   "source": [
    "location_to_rrdName_to_capDf = defaultdict(dict)\n",
    "for mondev in monitor_devices:\n",
    "    login = rrd_meta_utils.DOTENV_ENTRIES[mondev.login_env_key]\n",
    "    (addr, user, pw) = login.split('%%%%')\n",
    "    \n",
    "    for rrdName in ['down_rate', 'up_rate']:\n",
    "        remote_rrd_filepath = f\"~/speedtest/rrd/{rrdName}.rrd\"\n",
    "\n",
    "        df = rrd_utils_stdout.read_rrd_via_stdout(addr, user, pw, remote_rrd_filepath, '-2week')\n",
    "\n",
    "        location_to_rrdName_to_capDf[mondev.location][rrdName] = df"
   ]
  },
  {
   "cell_type": "code",
   "execution_count": null,
   "id": "ba4d421d",
   "metadata": {},
   "outputs": [],
   "source": [
    "(fig, ax) = plt.subplots(figsize=(12, 6))\n",
    "for mondev in monitor_devices:\n",
    "    color_h = plot_utils.LOC_TO_COLOR_H[mondev.location]\n",
    "    \n",
    "    down = location_to_rrdName_to_capDf[mondev.location]['down_rate']\n",
    "    ax.plot(down['time'], down['down_rate'], label=f\"{mondev.location} download\", color=hsv_to_rgb((color_h, 0.5, 1)))\n",
    "    \n",
    "    up = location_to_rrdName_to_capDf[mondev.location]['up_rate']\n",
    "    ax.plot(up['time'], up['up_rate'], label=f\"{mondev.location} upload\", color=hsv_to_rgb((color_h, 1, 1)))\n",
    "ax.set_title('Capacity')\n",
    "ax.set_ylabel('Mbps')\n",
    "ax.legend()\n",
    "None # Hide stdout output of the above line"
   ]
  },
  {
   "cell_type": "code",
   "execution_count": null,
   "id": "57230023",
   "metadata": {},
   "outputs": [],
   "source": [
    "def utilization(consume_df: pd.DataFrame, capacity_df: pd.DataFrame, factor: float) -> pd.DataFrame:\n",
    "    '''\n",
    "    @arg consume_df and capacity_df:\n",
    "        Each DF should have two columns,\n",
    "        1st column containing time, and\n",
    "        2nd column containing quantity (float).\n",
    "    @return:\n",
    "        1st column contains time, unmodified from @arg consume_df.\n",
    "        2nd column contains (consumed quantity / capacity quantity),\n",
    "            where capacity quantity comes from the last measurement at or before the time.\n",
    "    '''\n",
    "    cap_i = 0\n",
    "    cap_n = len(capacity_df)\n",
    "    cap_quant_prev = None\n",
    "    \n",
    "    utilizn_rows = []\n",
    "    \n",
    "    for (_, (consu_time, consu_quant)) in consume_df.iterrows():\n",
    "        if pd.isna(consu_quant):\n",
    "            continue\n",
    "        \n",
    "        while cap_i < cap_n and capacity_df.iloc[cap_i][0] <= consu_time:\n",
    "            cap_quant_prev = capacity_df.iloc[cap_i][1]\n",
    "            cap_i += 1\n",
    "\n",
    "        if pd.isna(cap_quant_prev):\n",
    "            # No capacity was recorded before the current consumption timestamp.\n",
    "            continue\n",
    "\n",
    "        utilizn = consu_quant / cap_quant_prev * factor\n",
    "        utilizn_row = (consu_time, utilizn)\n",
    "        utilizn_rows.append(utilizn_row)\n",
    "\n",
    "    return pd.DataFrame(utilizn_rows, columns=['time', 'utilization'])"
   ]
  },
  {
   "cell_type": "code",
   "execution_count": null,
   "id": "5c33d42d",
   "metadata": {},
   "outputs": [],
   "source": [
    "(fig, ax) = plt.subplots(figsize=(12, 6))\n",
    "\n",
    "# Scale both numerator and denominator to bitsPerSec. Then scale to percentage.\n",
    "factor = (1/8) / pow(2,20) * 100\n",
    "\n",
    "for mondev in monitor_devices:\n",
    "    color_h = plot_utils.LOC_TO_COLOR_H[mondev.location]\n",
    "    \n",
    "    consume_bytesPerSec_df = location_to_consumeDf[mondev.location][['time', 'INOCTETS']]\n",
    "    cap_MegabitsPerSec_df = location_to_rrdName_to_capDf[mondev.location]['down_rate']\n",
    "    utilzn_df = utilization(consume_bytesPerSec_df, cap_MegabitsPerSec_df, factor)\n",
    "    ax.plot(utilzn_df['time'], utilzn_df['utilization'], label=f\"{mondev.location} download\", color=hsv_to_rgb((color_h, 0.5, 1)))\n",
    "    \n",
    "    consume_bytesPerSec_df = location_to_consumeDf[mondev.location][['time', 'OUTOCTETS']]\n",
    "    cap_MegabitsPerSec_df = location_to_rrdName_to_capDf[mondev.location]['up_rate']\n",
    "    utilzn_df = utilization(consume_bytesPerSec_df, cap_MegabitsPerSec_df, factor)\n",
    "    ax.plot(utilzn_df['time'], utilzn_df['utilization'], label=f\"{mondev.location} upload\", color=hsv_to_rgb((color_h, 1, 1)))\n",
    "ax.set_title('Utilization')\n",
    "ax.set_ylabel('Percent')\n",
    "ax.legend()\n",
    "None # Hide stdout output of the above line"
   ]
  },
  {
   "cell_type": "code",
   "execution_count": null,
   "id": "3045e808",
   "metadata": {},
   "outputs": [],
   "source": []
  }
 ],
 "metadata": {
  "kernelspec": {
   "display_name": "Python 3 (ipykernel)",
   "language": "python",
   "name": "python3"
  },
  "language_info": {
   "codemirror_mode": {
    "name": "ipython",
    "version": 3
   },
   "file_extension": ".py",
   "mimetype": "text/x-python",
   "name": "python",
   "nbconvert_exporter": "python",
   "pygments_lexer": "ipython3",
   "version": "3.11.1"
  }
 },
 "nbformat": 4,
 "nbformat_minor": 5
}
