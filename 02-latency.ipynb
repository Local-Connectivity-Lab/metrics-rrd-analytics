{
 "cells": [
  {
   "cell_type": "code",
   "execution_count": null,
   "id": "5719de4f",
   "metadata": {},
   "outputs": [],
   "source": [
    "%matplotlib inline\n",
    "\n",
    "%load_ext autoreload\n",
    "%autoreload 2\n",
    "\n",
    "## Non-std libs\n",
    "import matplotlib.pyplot as plt\n",
    "\n",
    "## Local libs\n",
    "from scn_rrd import rrd_utils, rrd_meta_utils"
   ]
  },
  {
   "cell_type": "markdown",
   "id": "2e96f04a",
   "metadata": {},
   "source": [
    "References\n",
    "- Unit is millisec.\n",
    "    - https://github.com/librenms/librenms/blob/master/LibreNMS/Data/Source/FpingResponse.php :: `__construct()`\n",
    "    - https://github.com/librenms/librenms/blob/fb3c2ecb1c9275108058e76e8af6f145a92235e7/LibreNMS/Polling/ConnectivityHelper.php :: `savePingStats()`"
   ]
  },
  {
   "cell_type": "code",
   "execution_count": null,
   "id": "bb849c06",
   "metadata": {},
   "outputs": [],
   "source": [
    "locations = [\n",
    "    'FCS',\n",
    "    'nickelsville-cd',\n",
    "    'northlake',\n",
    "    'occ-oromo',\n",
    "    'sps-franklin',\n",
    "    'sps-garfield',\n",
    "]\n",
    "\n",
    "devices_ports = rrd_meta_utils.read_devices_ports()\n",
    "deviceHostnames = devices_ports[ devices_ports['location'].isin(locations) ]['hostname'].unique()"
   ]
  },
  {
   "cell_type": "code",
   "execution_count": null,
   "id": "71edde5d",
   "metadata": {},
   "outputs": [],
   "source": [
    "deviceHostname_to_df = rrd_utils.read_rrds(\n",
    "    deviceHostnames,\n",
    "    rrd_meta_utils.DEVICE_AGNOSTIC_RRD_FILENAMES.latency,\n",
    "    '-6month',\n",
    ")"
   ]
  },
  {
   "cell_type": "code",
   "execution_count": null,
   "id": "00e4c174",
   "metadata": {},
   "outputs": [],
   "source": [
    "fig, ax = plt.subplots()\n",
    "for (deviceHostname, df) in deviceHostname_to_df.items():\n",
    "    ax.plot(df['time'], df['ping'], label=deviceHostname)\n",
    "ax.set_title('Latency')\n",
    "ax.set_ylabel('millisec')\n",
    "ax.legend()"
   ]
  },
  {
   "cell_type": "code",
   "execution_count": null,
   "id": "b41954af",
   "metadata": {},
   "outputs": [],
   "source": []
  }
 ],
 "metadata": {
  "kernelspec": {
   "display_name": "Python 3 (ipykernel)",
   "language": "python",
   "name": "python3"
  },
  "language_info": {
   "codemirror_mode": {
    "name": "ipython",
    "version": 3
   },
   "file_extension": ".py",
   "mimetype": "text/x-python",
   "name": "python",
   "nbconvert_exporter": "python",
   "pygments_lexer": "ipython3",
   "version": "3.11.1"
  }
 },
 "nbformat": 4,
 "nbformat_minor": 5
}
