{
 "cells": [
  {
   "cell_type": "code",
   "execution_count": null,
   "id": "3ed227bf",
   "metadata": {},
   "outputs": [],
   "source": [
    "%matplotlib inline\n",
    "\n",
    "%load_ext autoreload\n",
    "%autoreload 2\n",
    "\n",
    "## Non-std libs\n",
    "from matplotlib.colors import hsv_to_rgb\n",
    "import matplotlib.pyplot as plt\n",
    "\n",
    "## Local modules\n",
    "from scn_rrd import rrd_meta_utils, rrd_utils, plot_utils"
   ]
  },
  {
   "cell_type": "markdown",
   "id": "f1262c14",
   "metadata": {},
   "source": [
    "### Count users by counting UEs"
   ]
  },
  {
   "cell_type": "code",
   "execution_count": null,
   "id": "be8168d8",
   "metadata": {},
   "outputs": [],
   "source": [
    "class At_eNB:\n",
    "    def __init__(self):\n",
    "        self.locations = [\n",
    "            'FCS',\n",
    "            'sps-franklin',\n",
    "        ]\n",
    "        \n",
    "        meta = rrd_meta_utils.read_meta()\n",
    "        self.meta = meta[\n",
    "            ( meta['location'].isin(self.locations) ) &\n",
    "            ( meta['device_group_name'] == 'eNB' )\n",
    "        ]\n",
    "        devices_info = self.meta[['hostname', 'location']].drop_duplicates()\n",
    "        self.hostname_to_location = {\n",
    "            hostname : location\n",
    "            for (_, (hostname, location)) in devices_info.iterrows()\n",
    "        }\n",
    "    \n",
    "    def read_rrds(self):\n",
    "        self.hostname_to_df = rrd_utils.read_rrds(\n",
    "            self.hostname_to_location.keys(),\n",
    "            rrd_meta_utils.ENB_DEVICE_RRD_FILENAMES.clients,\n",
    "            '-2month'\n",
    "        )\n",
    "        for df in self.hostname_to_df.values():\n",
    "            df.rename(columns={'sensor': 'users_ct'}, inplace=True)"
   ]
  },
  {
   "cell_type": "code",
   "execution_count": null,
   "id": "5a8bd7e4",
   "metadata": {},
   "outputs": [],
   "source": [
    "at_enb = At_eNB()"
   ]
  },
  {
   "cell_type": "code",
   "execution_count": null,
   "id": "990baa61",
   "metadata": {},
   "outputs": [],
   "source": [
    "at_enb.read_rrds()\n",
    "# Right now, BaicellsNova436Q devices do not have wireless-sensor-clients-rts-1.rrd.\n",
    "# If we see stderr here, this is expected."
   ]
  },
  {
   "cell_type": "markdown",
   "id": "77bb3195",
   "metadata": {},
   "source": [
    "### Count users by DHCP"
   ]
  },
  {
   "cell_type": "code",
   "execution_count": null,
   "id": "fb0ea02c",
   "metadata": {},
   "outputs": [],
   "source": [
    "class At_DHCP:\n",
    "    def __init__(self):\n",
    "        self.locations = [\n",
    "            'lihi-southend',\n",
    "            'nickelsville-cd',\n",
    "            'northlake',\n",
    "        ]\n",
    "        \n",
    "        meta = rrd_meta_utils.read_meta()\n",
    "        self.meta = meta[\n",
    "            ( meta['location'].isin(self.locations) ) &\n",
    "            ( meta['device_group_name'].isin(['CPE gateway', 'Backhaul gateway']) )\n",
    "        ]\n",
    "        devices_info = self.meta[['hostname', 'location']].drop_duplicates()\n",
    "        self.hostname_to_location = {\n",
    "            hostname : location\n",
    "            for (_, (hostname, location)) in devices_info.iterrows()\n",
    "        }\n",
    "    \n",
    "    def read_rrds(self):\n",
    "        self.hostname_to_df = rrd_utils.read_rrds(\n",
    "            self.hostname_to_location.keys(),\n",
    "            rrd_meta_utils.MIKROTIK_DEVICE_RRD_FILENAMES.clients,\n",
    "            '-2month'\n",
    "        )\n",
    "        for df in self.hostname_to_df.values():\n",
    "            df.rename(columns={'leases': 'users_ct'}, inplace=True)"
   ]
  },
  {
   "cell_type": "code",
   "execution_count": null,
   "id": "5df93dbb",
   "metadata": {},
   "outputs": [],
   "source": [
    "at_dhcp = At_DHCP()"
   ]
  },
  {
   "cell_type": "code",
   "execution_count": null,
   "id": "cc19d963",
   "metadata": {},
   "outputs": [],
   "source": [
    "at_dhcp.read_rrds()"
   ]
  },
  {
   "cell_type": "markdown",
   "id": "fba33130",
   "metadata": {},
   "source": [
    "### Plot"
   ]
  },
  {
   "cell_type": "code",
   "execution_count": null,
   "id": "285260d9",
   "metadata": {},
   "outputs": [],
   "source": [
    "(fig, ax) = plt.subplots(figsize=(12, 6))\n",
    "for namespace in [at_enb, at_dhcp]:\n",
    "    for (hostname, df) in namespace.hostname_to_df.items():\n",
    "        location = namespace.hostname_to_location[hostname]\n",
    "        color_h = plot_utils.LOC_TO_COLOR_H[location]\n",
    "        ax.plot(df['time'], df['users_ct'], label=hostname, color=hsv_to_rgb((color_h, 1, 1)))\n",
    "ax.set_title('Count of users')\n",
    "ax.tick_params(axis='x', labelrotation=90)\n",
    "ax.legend()\n",
    "None # Hide stdout output of the above line"
   ]
  },
  {
   "cell_type": "code",
   "execution_count": null,
   "id": "35e2cd97",
   "metadata": {},
   "outputs": [],
   "source": []
  }
 ],
 "metadata": {
  "kernelspec": {
   "display_name": "Python 3 (ipykernel)",
   "language": "python",
   "name": "python3"
  },
  "language_info": {
   "codemirror_mode": {
    "name": "ipython",
    "version": 3
   },
   "file_extension": ".py",
   "mimetype": "text/x-python",
   "name": "python",
   "nbconvert_exporter": "python",
   "pygments_lexer": "ipython3",
   "version": "3.11.1"
  }
 },
 "nbformat": 4,
 "nbformat_minor": 5
}
