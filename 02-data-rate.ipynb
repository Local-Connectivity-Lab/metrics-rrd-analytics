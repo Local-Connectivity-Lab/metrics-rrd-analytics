{
 "cells": [
  {
   "cell_type": "code",
   "execution_count": null,
   "id": "d7f64d9c",
   "metadata": {},
   "outputs": [],
   "source": [
    "%matplotlib inline\n",
    "\n",
    "%load_ext autoreload\n",
    "%autoreload 2\n",
    "\n",
    "## Non-std libs\n",
    "import matplotlib.pyplot as plt\n",
    "import pandas as pd\n",
    "\n",
    "## Local libs\n",
    "from scn_rrd import rrd_utils, rrd_meta_utils"
   ]
  },
  {
   "cell_type": "code",
   "execution_count": null,
   "id": "8ede6d7c",
   "metadata": {},
   "outputs": [],
   "source": [
    "locations = [\n",
    "    'FCS',\n",
    "    'sps-garfield',\n",
    "    'occ-oromo',\n",
    "    'northlake',\n",
    "]\n",
    "portGroups = [\n",
    "    'epc-backhaul-interface',\n",
    "    'backhaul-interface',\n",
    "]\n",
    "\n",
    "meta = rrd_meta_utils.read_meta()\n",
    "meta = meta[\n",
    "    ( meta['location'].isin(locations) ) &\n",
    "    ( meta['port_group_name'].isin(portGroups) )\n",
    "]"
   ]
  },
  {
   "cell_type": "code",
   "execution_count": null,
   "id": "1912a38b",
   "metadata": {},
   "outputs": [],
   "source": [
    "deviceHostname_to_df = {\n",
    "    row['hostname']:\n",
    "    rrd_utils.read_rrd(row['hostname'], row['port_rrd_filename'], '-6month')\n",
    "    for (_, row) in meta.iterrows()\n",
    "}"
   ]
  },
  {
   "cell_type": "code",
   "execution_count": null,
   "id": "ba0915e6",
   "metadata": {},
   "outputs": [],
   "source": [
    "(fig, ax) = plt.subplots()\n",
    "for (deviceHostname, df) in deviceHostname_to_df.items():\n",
    "    inbound_gigabytes = df['INOCTETS'] / pow(2, 30)\n",
    "    outbound_gigabytes = df['OUTOCTETS'] / pow(2, 30)\n",
    "    ax.plot(df['time'], inbound_gigabytes, label=f'{deviceHostname} inbound')\n",
    "    ax.plot(df['time'], outbound_gigabytes, label=f'{deviceHostname} outbound')\n",
    "ax.set_title('Uplink data rate')\n",
    "ax.set_ylabel('Gigabyte/sec')\n",
    "ax.legend()"
   ]
  },
  {
   "cell_type": "code",
   "execution_count": null,
   "id": "e9822f6d",
   "metadata": {},
   "outputs": [],
   "source": [
    "fig, axez = plt.subplots(nrows=len(deviceHostname_to_df), figsize=(10,20))\n",
    "for (ax, (deviceHostname, df)) in zip(axez, deviceHostname_to_df.items()):\n",
    "    df_monthly = df[['time', 'INOCTETS', 'OUTOCTETS']] \\\n",
    "        .groupby(by=pd.Grouper(key='time', freq='M')) \\\n",
    "        .sum() \\\n",
    "        / pow(2, 30)\n",
    "    df_monthly.index = df_monthly.index.to_period('M')\n",
    "    df_monthly.plot(\n",
    "        ax=ax,\n",
    "        kind='bar',\n",
    "        title=deviceHostname,\n",
    "        xlabel='',\n",
    "        ylabel='Gigabyte',\n",
    "    )\n",
    "fig.suptitle('Monthly data rate')"
   ]
  },
  {
   "cell_type": "code",
   "execution_count": null,
   "id": "b7e35327",
   "metadata": {},
   "outputs": [],
   "source": []
  }
 ],
 "metadata": {
  "kernelspec": {
   "display_name": "Python 3 (ipykernel)",
   "language": "python",
   "name": "python3"
  },
  "language_info": {
   "codemirror_mode": {
    "name": "ipython",
    "version": 3
   },
   "file_extension": ".py",
   "mimetype": "text/x-python",
   "name": "python",
   "nbconvert_exporter": "python",
   "pygments_lexer": "ipython3",
   "version": "3.11.1"
  }
 },
 "nbformat": 4,
 "nbformat_minor": 5
}
