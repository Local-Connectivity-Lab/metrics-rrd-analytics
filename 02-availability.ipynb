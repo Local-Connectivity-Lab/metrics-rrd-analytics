{
 "cells": [
  {
   "cell_type": "code",
   "execution_count": null,
   "id": "5c0edc49",
   "metadata": {},
   "outputs": [],
   "source": [
    "%matplotlib inline\n",
    "\n",
    "%load_ext autoreload\n",
    "%autoreload 2\n",
    "\n",
    "## Std libs\n",
    "from datetime import datetime\n",
    "\n",
    "## Non-std libs\n",
    "import matplotlib.pyplot as plt\n",
    "\n",
    "## Local modules\n",
    "from scn_rrd import librenms_meta_utils, librenms_rrd_utils, rrd_utils, plot_utils"
   ]
  },
  {
   "cell_type": "code",
   "execution_count": null,
   "id": "423fc843",
   "metadata": {},
   "outputs": [],
   "source": [
    "meta = librenms_meta_utils.read_meta()\n",
    "devices_info = meta[['hostname', 'location']].drop_duplicates()\n",
    "hostname_to_location = {\n",
    "    hostname : location\n",
    "    for (_, (hostname, location)) in devices_info.iterrows()\n",
    "}"
   ]
  },
  {
   "cell_type": "code",
   "execution_count": null,
   "id": "64dec4d1",
   "metadata": {},
   "outputs": [],
   "source": [
    "# Hostnames gathered manually since there are only a few\n",
    "cell_site_hostnames_to_pretty_names = {\n",
    "    'FCS-EPC': 'FCS Cell Site EPC',\n",
    "    'Franklin-EPC': 'Franklin HS Cell Site EPC',\n",
    "    'OCC-EPC': 'Oromo CC Cell Site EPC',\n",
    "    'Garfield-EPC': 'Garfield HS Cell Site EPC',\n",
    "}\n",
    "\n",
    "user_site_hostnames_to_pretty_names = {\n",
    "    'Southend-CPEGateway-Omni': 'LIHI Southend CPE',\n",
    "}\n",
    "\n",
    "wifi_site_hostnames_to_pretty_names = {\n",
    "    'CD-BackhaulGateway-hEXS': 'Nickelsville CD Lumen Backhaul',\n",
    "    'Northlake-BackhaulGateway-hEXS': 'Nickelsville Northlake Lumen Backhaul',\n",
    "}"
   ]
  },
  {
   "cell_type": "code",
   "execution_count": null,
   "id": "3ae69873",
   "metadata": {},
   "outputs": [],
   "source": [
    "cell_site_dfs = librenms_rrd_utils.read_rrds(\n",
    "    cell_site_hostnames_to_pretty_names.keys(),\n",
    "    librenms_rrd_utils.DEVICE_AGNOSTIC_RRD_FILENAMES.avail_daily,\n",
    "    '-90days'\n",
    ")\n",
    "\n",
    "user_site_dfs = librenms_rrd_utils.read_rrds(\n",
    "    user_site_hostnames_to_pretty_names.keys(),\n",
    "    librenms_rrd_utils.DEVICE_AGNOSTIC_RRD_FILENAMES.avail_daily,\n",
    "    '-90days'\n",
    ")\n",
    "\n",
    "wifi_site_dfs = librenms_rrd_utils.read_rrds(\n",
    "    wifi_site_hostnames_to_pretty_names.keys(),\n",
    "    librenms_rrd_utils.DEVICE_AGNOSTIC_RRD_FILENAMES.avail_daily,\n",
    "    '-90days'\n",
    ")"
   ]
  },
  {
   "cell_type": "code",
   "execution_count": null,
   "id": "0384d6e1",
   "metadata": {},
   "outputs": [],
   "source": [
    "# Cell Site Plot\n",
    "(fig, ax) = plt.subplots(figsize=(12,6))\n",
    "for (host, df) in cell_site_dfs.items():\n",
    "    location = hostname_to_location[host]\n",
    "    color = plot_utils.LOC_TO_COLOR[location]\n",
    "    ax.plot(df['time'], df['availability'], label=cell_site_hostnames_to_pretty_names[host], color=color)\n",
    "    threshold = 95\n",
    "    ax.fill_between(df['time'], 0, 1, where=df['availability'] < threshold, \n",
    "                   color=color, alpha=0.2, transform=ax.get_xaxis_transform())\n",
    "ax.set_title('Cell Site Availability')\n",
    "ax.set_ylabel('Percentage')\n",
    "ax.tick_params(axis='x', labelrotation=90)\n",
    "ax.set_ylim(bottom=90, top=101)\n",
    "ax.legend()\n",
    "\n",
    "\n",
    "None # Hide stdout output of the above line"
   ]
  },
  {
   "cell_type": "code",
   "execution_count": null,
   "id": "9d656756",
   "metadata": {},
   "outputs": [],
   "source": [
    "# CPE User Site Plot\n",
    "(fig, ax) = plt.subplots(figsize=(12,6))\n",
    "for (host, df) in user_site_dfs.items():\n",
    "    location = hostname_to_location[host]\n",
    "    color = plot_utils.LOC_TO_COLOR[location]\n",
    "    ax.plot(df['time'], df['availability'], label=user_site_hostnames_to_pretty_names[host], color=color)\n",
    "    threshold = 95\n",
    "    ax.fill_between(df['time'], 0, 1, where=df['availability'] < threshold, \n",
    "                    color=color, alpha=0.2, transform=ax.get_xaxis_transform())\n",
    "ax.set_title('CPE User Site Availability')\n",
    "ax.set_ylabel('Percentage')\n",
    "ax.tick_params(axis='x', labelrotation=90)\n",
    "ax.set_ylim(bottom=90, top=101)\n",
    "ax.legend()\n",
    "None # Hide stdout output of the above line"
   ]
  },
  {
   "cell_type": "code",
   "execution_count": null,
   "id": "8d74324c",
   "metadata": {},
   "outputs": [],
   "source": [
    "# Wifi Site Plot\n",
    "(fig, ax) = plt.subplots(figsize=(12,6))\n",
    "for (host, df) in wifi_site_dfs.items():\n",
    "    location = hostname_to_location[host]\n",
    "    color = plot_utils.LOC_TO_COLOR[location]\n",
    "    ax.plot(df['time'], df['availability'], label=wifi_site_hostnames_to_pretty_names[host], color=color)\n",
    "    threshold = 95\n",
    "    ax.fill_between(df['time'], 0, 1, where=df['availability'] < threshold, \n",
    "                    color=color, alpha=0.2, transform=ax.get_xaxis_transform())\n",
    "ax.set_title('Wifi Site Availability')\n",
    "ax.set_ylabel('Percentage')\n",
    "ax.tick_params(axis='x', labelrotation=90)\n",
    "ax.set_ylim(bottom=90, top=101)\n",
    "ax.legend()\n",
    "None # Hide stdout output of the above line"
   ]
  },
  {
   "cell_type": "code",
   "execution_count": null,
   "id": "786d1906",
   "metadata": {},
   "outputs": [],
   "source": [
    "# Combined plot\n",
    "# Wifi Site Plot\n",
    "(fig, ax) = plt.subplots(figsize=(12,6))\n",
    "\n",
    "# line styles (tbh this looks chaotic)\n",
    "line_styles = ['dashed', 'solid', 'dotted', 'dashdot']\n",
    "\n",
    "for (host, df) in cell_site_dfs.items():\n",
    "    location = hostname_to_location[host]\n",
    "    color = plot_utils.LOC_TO_COLOR[location]\n",
    "    ax.plot(df['time'], df['availability'], linestyle=line_styles[0], label=cell_site_hostnames_to_pretty_names[host], color=color)\n",
    "    threshold = 95\n",
    "    ax.fill_between(df['time'], 0, 1, where=df['availability'] < threshold, \n",
    "                    color=color, alpha=0.2, transform=ax.get_xaxis_transform())\n",
    "for (host, df) in user_site_dfs.items():\n",
    "    location = hostname_to_location[host]\n",
    "    color = plot_utils.LOC_TO_COLOR[location]\n",
    "    ax.plot(df['time'], df['availability'], linestyle=line_styles[1], label=user_site_hostnames_to_pretty_names[host], color=color)\n",
    "    threshold = 95\n",
    "    ax.fill_between(df['time'], 0, 1, where=df['availability'] < threshold, \n",
    "                    color=color, alpha=0.2, transform=ax.get_xaxis_transform())\n",
    "for (host, df) in wifi_site_dfs.items():\n",
    "    location = hostname_to_location[host]\n",
    "    color = plot_utils.LOC_TO_COLOR[location]\n",
    "    ax.plot(df['time'], df['availability'], linestyle=line_styles[2], label=wifi_site_hostnames_to_pretty_names[host], color=color)\n",
    "    threshold = 95\n",
    "    ax.fill_between(df['time'], 0, 1, where=df['availability'] < threshold, \n",
    "                    color=color, alpha=0.2, transform=ax.get_xaxis_transform())\n",
    "\n",
    "ax.set_title('Site Availability')\n",
    "ax.set_ylabel('Percentage')\n",
    "ax.tick_params(axis='x', labelrotation=90)\n",
    "ax.set_ylim(bottom=90, top=101)\n",
    "ax.legend()\n",
    "None # Hide stdout output of the above line"
   ]
  },
  {
   "cell_type": "code",
   "execution_count": null,
   "id": "f146f736",
   "metadata": {},
   "outputs": [],
   "source": []
  }
 ],
 "metadata": {
  "kernelspec": {
   "display_name": "Python 3 (ipykernel)",
   "language": "python",
   "name": "python3"
  },
  "language_info": {
   "codemirror_mode": {
    "name": "ipython",
    "version": 3
   },
   "file_extension": ".py",
   "mimetype": "text/x-python",
   "name": "python",
   "nbconvert_exporter": "python",
   "pygments_lexer": "ipython3",
   "version": "3.11.1"
  }
 },
 "nbformat": 4,
 "nbformat_minor": 5
}
