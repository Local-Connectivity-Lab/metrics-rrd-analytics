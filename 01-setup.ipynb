{
 "cells": [
  {
   "cell_type": "code",
   "execution_count": null,
   "id": "2fbf2e4a",
   "metadata": {},
   "outputs": [],
   "source": [
    "## Install dependencies.\n",
    "! sudo apt update > /dev/null\n",
    "! sudo apt install rrdtool librrd-dev > /dev/null\n",
    "! pip install -r ./requirements.txt > /dev/null"
   ]
  },
  {
   "cell_type": "code",
   "execution_count": null,
   "id": "31a6f275",
   "metadata": {},
   "outputs": [],
   "source": [
    "%load_ext autoreload\n",
    "%autoreload 2\n",
    "\n",
    "## Stdlib\n",
    "from pathlib import Path\n",
    "\n",
    "## Local libs\n",
    "from scn_rrd import rrd_utils"
   ]
  },
  {
   "cell_type": "code",
   "execution_count": null,
   "id": "c28ff6a7",
   "metadata": {},
   "outputs": [],
   "source": [
    "print('# Run below printed-out commands on your shell to retrieve RRD files from production.')\n",
    "for (_site, nickname_to_relpath) in rrd_utils.RRD_RELPATHS.items():\n",
    "    for (_nickname, relpath) in vars(nickname_to_relpath).items():\n",
    "        prodpath = rrd_utils.rrd_path(rrd_utils.RrdDirpath.PROD, relpath)\n",
    "        localpath = rrd_utils.rrd_path(rrd_utils.RrdDirpath.LOCAL, relpath)\n",
    "        \n",
    "        Path(localpath).parent.mkdir(parents=True, exist_ok=True)\n",
    "        \n",
    "        prod_hostname = 'scn_nms'\n",
    "        print(f'scp {prod_hostname}:{prodpath} {localpath}')\n",
    "        ## Print only. We could run scp from inside notebook, but we ask you to do it explicitly."
   ]
  }
 ],
 "metadata": {
  "kernelspec": {
   "display_name": "Python 3 (ipykernel)",
   "language": "python",
   "name": "python3"
  },
  "language_info": {
   "codemirror_mode": {
    "name": "ipython",
    "version": 3
   },
   "file_extension": ".py",
   "mimetype": "text/x-python",
   "name": "python",
   "nbconvert_exporter": "python",
   "pygments_lexer": "ipython3",
   "version": "3.11.1"
  }
 },
 "nbformat": 4,
 "nbformat_minor": 5
}
