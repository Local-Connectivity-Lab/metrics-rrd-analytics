{
 "cells": [
  {
   "cell_type": "code",
   "execution_count": null,
   "id": "5719de4f",
   "metadata": {},
   "outputs": [],
   "source": [
    "%matplotlib inline\n",
    "\n",
    "%load_ext autoreload\n",
    "%autoreload 2\n",
    "\n",
    "## Stdlib\n",
    "from collections import Counter, defaultdict\n",
    "from datetime import datetime\n",
    "\n",
    "## Non-std libs\n",
    "from matplotlib.colors import rgb_to_hsv, to_rgb, hsv_to_rgb\n",
    "import matplotlib.pyplot as plt\n",
    "\n",
    "## Local modules\n",
    "from scn_rrd import config, librenms_meta_utils, librenms_rrd_utils, rrd_utils, plot_utils\n",
    "from scn_rrd.librenms_api_client import is_device_out_of_service"
   ]
  },
  {
   "cell_type": "markdown",
   "id": "2e96f04a",
   "metadata": {},
   "source": [
    "References\n",
    "- Unit is millisec.\n",
    "    - https://github.com/librenms/librenms/blob/master/LibreNMS/Data/Source/FpingResponse.php :: `__construct()`\n",
    "    - https://github.com/librenms/librenms/blob/fb3c2ecb1c9275108058e76e8af6f145a92235e7/LibreNMS/Polling/ConnectivityHelper.php :: `savePingStats()`"
   ]
  },
  {
   "cell_type": "code",
   "execution_count": null,
   "id": "bb849c06",
   "metadata": {},
   "outputs": [],
   "source": [
    "meta = librenms_meta_utils.read_meta()\n",
    "meta = meta[ meta['location'].isin(config.PHYS_LOCS) ]\n",
    "devices = meta[['hostname', 'location']].drop_duplicates()\n",
    "hostname_to_meta = {\n",
    "    row['hostname']: row\n",
    "    for (_, row) in devices.iterrows()\n",
    "    if not is_device_out_of_service(row['hostname'])\n",
    "}\n",
    "\n",
    "logical_loc_to_hostnames = defaultdict(list)\n",
    "for (hostname, row) in hostname_to_meta.items():\n",
    "    logical_loc = config.PHYS_LOC_TO_LOGICAL_LOC[row['location']]\n",
    "    # hack to remove franklin, garfield b/c missing data\n",
    "    if logical_loc in ['sps-garfield', 'sps-franklin']:\n",
    "        continue\n",
    "    logical_loc_to_hostnames[logical_loc].append(hostname)"
   ]
  },
  {
   "cell_type": "code",
   "execution_count": null,
   "id": "71edde5d",
   "metadata": {},
   "outputs": [],
   "source": [
    "hostname_to_df = librenms_rrd_utils.read_rrds(\n",
    "    hostname_to_meta.keys(),\n",
    "    librenms_rrd_utils.DEVICE_AGNOSTIC_RRD_FILENAMES.latency,\n",
    "    '-90days',\n",
    ")"
   ]
  },
  {
   "cell_type": "code",
   "execution_count": null,
   "id": "847f7cb3",
   "metadata": {},
   "outputs": [],
   "source": [
    "logical_locs_ct = len(logical_loc_to_hostnames)\n",
    "(fig, axez) = plt.subplots(nrows=logical_locs_ct, figsize=(12, 3 * logical_locs_ct), constrained_layout=True)\n",
    "for (ax, (logical_loc, hostnames)) in zip(axez, logical_loc_to_hostnames.items()):\n",
    "    for (i, hostname) in enumerate(hostnames):\n",
    "        df = hostname_to_df[hostname]\n",
    "        \n",
    "        # extract the base hue for the location\n",
    "        color_h = rgb_to_hsv(to_rgb(plot_utils.LOC_TO_COLOR[logical_loc]))[0]\n",
    "        color_s = (i+1) / len(hostnames)\n",
    "        \n",
    "        ax.plot(df['time'], df['ping'], label=hostname, color=hsv_to_rgb((color_h, color_s, 1)))\n",
    "\n",
    "    ax.set_ylabel('millisec')\n",
    "    ax.legend()\n",
    "fig.suptitle('Latency')\n",
    "None # Hide stdout output of the above line"
   ]
  },
  {
   "cell_type": "code",
   "execution_count": null,
   "id": "b41954af",
   "metadata": {},
   "outputs": [],
   "source": []
  }
 ],
 "metadata": {
  "kernelspec": {
   "display_name": "Python 3 (ipykernel)",
   "language": "python",
   "name": "python3"
  },
  "language_info": {
   "codemirror_mode": {
    "name": "ipython",
    "version": 3
   },
   "file_extension": ".py",
   "mimetype": "text/x-python",
   "name": "python",
   "nbconvert_exporter": "python",
   "pygments_lexer": "ipython3",
   "version": "3.11.1"
  }
 },
 "nbformat": 4,
 "nbformat_minor": 5
}
