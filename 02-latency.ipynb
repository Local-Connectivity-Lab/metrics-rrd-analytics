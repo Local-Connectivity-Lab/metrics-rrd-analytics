{
 "cells": [
  {
   "cell_type": "code",
   "execution_count": null,
   "id": "5719de4f",
   "metadata": {},
   "outputs": [],
   "source": [
    "%matplotlib inline\n",
    "\n",
    "%load_ext autoreload\n",
    "%autoreload 2\n",
    "\n",
    "## Stdlib\n",
    "from collections import Counter, defaultdict\n",
    "\n",
    "## Non-std libs\n",
    "from matplotlib.colors import hsv_to_rgb\n",
    "import matplotlib.pyplot as plt\n",
    "\n",
    "## Local modules\n",
    "from scn_rrd import rrd_meta_utils, rrd_utils, plot_utils"
   ]
  },
  {
   "cell_type": "markdown",
   "id": "2e96f04a",
   "metadata": {},
   "source": [
    "References\n",
    "- Unit is millisec.\n",
    "    - https://github.com/librenms/librenms/blob/master/LibreNMS/Data/Source/FpingResponse.php :: `__construct()`\n",
    "    - https://github.com/librenms/librenms/blob/fb3c2ecb1c9275108058e76e8af6f145a92235e7/LibreNMS/Polling/ConnectivityHelper.php :: `savePingStats()`"
   ]
  },
  {
   "cell_type": "code",
   "execution_count": null,
   "id": "bb849c06",
   "metadata": {},
   "outputs": [],
   "source": [
    "locations = [\n",
    "    'FCS',\n",
    "    'lihi-southend',\n",
    "    'nickelsville-cd',\n",
    "    'northlake',\n",
    "    'occ-oromo',\n",
    "    'sps-franklin',\n",
    "    'sps-garfield',\n",
    "]\n",
    "\n",
    "meta = rrd_meta_utils.read_meta()\n",
    "meta = meta[ meta['location'].isin(locations) ]\n",
    "devices_info = meta[['hostname', 'location']].drop_duplicates()\n",
    "hostname_to_phys_loc = {\n",
    "    hostname : phys_loc\n",
    "    for (_, (hostname, phys_loc)) in devices_info.iterrows()\n",
    "}\n",
    "\n",
    "logical_loc_to_hostnames = defaultdict(list)\n",
    "for (hostname, phys_loc) in hostname_to_phys_loc.items():\n",
    "    logical_loc = plot_utils.PHYS_LOC_TO_LOGICAL_LOC[phys_loc]\n",
    "    logical_loc_to_hostnames[logical_loc].append(hostname)"
   ]
  },
  {
   "cell_type": "code",
   "execution_count": null,
   "id": "71edde5d",
   "metadata": {},
   "outputs": [],
   "source": [
    "hostname_to_df = rrd_utils.read_rrds(\n",
    "    hostname_to_phys_loc.keys(),\n",
    "    rrd_meta_utils.DEVICE_AGNOSTIC_RRD_FILENAMES.latency,\n",
    "    '-20day',\n",
    ")"
   ]
  },
  {
   "cell_type": "code",
   "execution_count": null,
   "id": "00e4c174",
   "metadata": {},
   "outputs": [],
   "source": [
    "(fig, ax) = plt.subplots(figsize=(12, 6))\n",
    "for (logical_loc, hostnames) in logical_loc_to_hostnames.items():\n",
    "    for (i, hostname) in enumerate(hostnames):\n",
    "        df = hostname_to_df[hostname]\n",
    "        \n",
    "        color_h = plot_utils.LOC_TO_COLOR_H[logical_loc]\n",
    "        color_s = (i+1) / (len(hostnames)+1)\n",
    "        \n",
    "        ax.plot(df['time'], df['ping'], label=hostname, color=hsv_to_rgb((color_h, color_s, 1)))\n",
    "ax.set_title('Latency')\n",
    "ax.set_ylabel('millisec')\n",
    "ax.legend()\n",
    "None # Hide stdout output of the above line"
   ]
  },
  {
   "cell_type": "code",
   "execution_count": null,
   "id": "b41954af",
   "metadata": {},
   "outputs": [],
   "source": []
  }
 ],
 "metadata": {
  "kernelspec": {
   "display_name": "Python 3 (ipykernel)",
   "language": "python",
   "name": "python3"
  },
  "language_info": {
   "codemirror_mode": {
    "name": "ipython",
    "version": 3
   },
   "file_extension": ".py",
   "mimetype": "text/x-python",
   "name": "python",
   "nbconvert_exporter": "python",
   "pygments_lexer": "ipython3",
   "version": "3.11.1"
  }
 },
 "nbformat": 4,
 "nbformat_minor": 5
}
