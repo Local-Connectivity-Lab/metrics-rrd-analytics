{
 "cells": [
  {
   "cell_type": "code",
   "execution_count": null,
   "id": "d7f64d9c",
   "metadata": {},
   "outputs": [],
   "source": [
    "%matplotlib inline\n",
    "\n",
    "%load_ext autoreload\n",
    "%autoreload 2\n",
    "\n",
    "## Non-std libs\n",
    "import matplotlib.pyplot as plt\n",
    "import pandas as pd\n",
    "\n",
    "## Local libs\n",
    "from scn_rrd import rrd_utils"
   ]
  },
  {
   "cell_type": "code",
   "execution_count": null,
   "id": "ba0915e6",
   "metadata": {},
   "outputs": [],
   "source": [
    "site_to_df = rrd_utils.collect_rrd_dataframes('uplink', '-6month')\n",
    "\n",
    "fig, ax = plt.subplots()\n",
    "for (site, df) in site_to_df.items():\n",
    "    inbound_gigabytes = df['INOCTETS'] / pow(2, 30)\n",
    "    outbound_gigabytes = df['OUTOCTETS'] / pow(2, 30)\n",
    "    ax.plot(df['time'], inbound_gigabytes, label=f'{site} inbound')\n",
    "    ax.plot(df['time'], outbound_gigabytes, label=f'{site} outbound')\n",
    "ax.set_title('EPC uplink data rate')\n",
    "ax.set_ylabel('Gigabyte/sec')\n",
    "ax.legend()"
   ]
  },
  {
   "cell_type": "code",
   "execution_count": null,
   "id": "e9822f6d",
   "metadata": {},
   "outputs": [],
   "source": [
    "fig, axez = plt.subplots(nrows=len(site_to_df), figsize=(10,20))\n",
    "for (ax, (site, df)) in zip(axez, site_to_df.items()):\n",
    "    df_monthly = df[['time', 'INOCTETS', 'OUTOCTETS']] \\\n",
    "        .groupby(by=pd.Grouper(key='time', freq='M')) \\\n",
    "        .sum() \\\n",
    "        / pow(2, 30)\n",
    "    df_monthly.index = df_monthly.index.to_period(\"M\")\n",
    "    df_monthly.plot(\n",
    "        ax=ax,\n",
    "        kind='bar',\n",
    "        title=site,\n",
    "        xlabel='',\n",
    "        ylabel='Gigabyte',\n",
    "    )\n",
    "fig.suptitle('Monthly data rate')"
   ]
  },
  {
   "cell_type": "code",
   "execution_count": null,
   "id": "b7e35327",
   "metadata": {},
   "outputs": [],
   "source": []
  }
 ],
 "metadata": {
  "kernelspec": {
   "display_name": "Python 3 (ipykernel)",
   "language": "python",
   "name": "python3"
  },
  "language_info": {
   "codemirror_mode": {
    "name": "ipython",
    "version": 3
   },
   "file_extension": ".py",
   "mimetype": "text/x-python",
   "name": "python",
   "nbconvert_exporter": "python",
   "pygments_lexer": "ipython3",
   "version": "3.11.1"
  }
 },
 "nbformat": 4,
 "nbformat_minor": 5
}
