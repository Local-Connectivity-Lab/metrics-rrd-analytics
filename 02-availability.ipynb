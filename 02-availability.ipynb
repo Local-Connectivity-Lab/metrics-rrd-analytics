{
 "cells": [
  {
   "cell_type": "code",
   "execution_count": null,
   "id": "5c0edc49",
   "metadata": {},
   "outputs": [],
   "source": [
    "%matplotlib inline\n",
    "\n",
    "%load_ext autoreload\n",
    "%autoreload 2\n",
    "\n",
    "## Non-std libs\n",
    "import matplotlib.pyplot as plt\n",
    "\n",
    "## Local libs\n",
    "from scn_rrd import rrd_utils"
   ]
  },
  {
   "cell_type": "code",
   "execution_count": null,
   "id": "64dec4d1",
   "metadata": {},
   "outputs": [],
   "source": [
    "locations = [\n",
    "    'FCS',\n",
    "    'sps-garfield',\n",
    "    'occ-oromo',\n",
    "]\n",
    "\n",
    "devices_ports = rrd_utils.read_devices_ports()\n",
    "deviceHostnames = devices_ports[ devices_ports['location'].isin(locations) ]['hostname'].unique()"
   ]
  },
  {
   "cell_type": "code",
   "execution_count": null,
   "id": "3ae69873",
   "metadata": {},
   "outputs": [],
   "source": [
    "deviceHostname_to_df = {\n",
    "    deviceHostname:\n",
    "    rrd_utils.read_rrd(deviceHostname, rrd_utils.DEVICE_AGNOSTIC_RRD_FILENAMES.avail_weekly, '-6month')\n",
    "    for deviceHostname in deviceHostnames\n",
    "}"
   ]
  },
  {
   "cell_type": "code",
   "execution_count": null,
   "id": "0384d6e1",
   "metadata": {},
   "outputs": [],
   "source": [
    "fig, ax = plt.subplots()\n",
    "for (deviceHostname, df) in deviceHostname_to_df.items():\n",
    "    ax.plot(df['time'], df['availability'], label=deviceHostname)\n",
    "ax.set_title('Availability')\n",
    "ax.set_ylabel('Percentage')\n",
    "ax.legend()"
   ]
  },
  {
   "cell_type": "code",
   "execution_count": null,
   "id": "9d656756",
   "metadata": {},
   "outputs": [],
   "source": []
  }
 ],
 "metadata": {
  "kernelspec": {
   "display_name": "Python 3 (ipykernel)",
   "language": "python",
   "name": "python3"
  },
  "language_info": {
   "codemirror_mode": {
    "name": "ipython",
    "version": 3
   },
   "file_extension": ".py",
   "mimetype": "text/x-python",
   "name": "python",
   "nbconvert_exporter": "python",
   "pygments_lexer": "ipython3",
   "version": "3.11.1"
  }
 },
 "nbformat": 4,
 "nbformat_minor": 5
}
