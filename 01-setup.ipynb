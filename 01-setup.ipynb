{
 "cells": [
  {
   "cell_type": "code",
   "execution_count": null,
   "id": "31a6f275",
   "metadata": {},
   "outputs": [],
   "source": [
    "%load_ext autoreload\n",
    "%autoreload 2\n",
    "\n",
    "## Non-std libs\n",
    "import pandas as pd\n",
    "import requests\n",
    "\n",
    "## Local modules\n",
    "from scn_rrd.librenms_api_client import req_librenms\n",
    "from scn_rrd import librenms_meta_utils"
   ]
  },
  {
   "cell_type": "markdown",
   "id": "6f6a770b",
   "metadata": {},
   "source": [
    "### Retrieve metadata about devices and ports, via LibreNMS's api.\n",
    "\n",
    "Essentially we want to dump a portion of LibreNMS's mysql into pandas DataFrames."
   ]
  },
  {
   "cell_type": "code",
   "execution_count": null,
   "id": "b2c12543",
   "metadata": {},
   "outputs": [],
   "source": [
    "devices = req_librenms('/devices')\n",
    "devices_df = pd.DataFrame(devices['devices'])\n",
    "\n",
    "deviceGroups = req_librenms('/devicegroups')\n",
    "devieGroups_df = pd.DataFrame(deviceGroups['groups'], columns=['id', 'name'])\n",
    "devieGroups_df.rename(\n",
    "    columns={'id': 'device_group_id', 'name': 'device_group_name'},\n",
    "    inplace=True)\n",
    "\n",
    "# To avoid this n+1 querying, we could `select * from device_group_device;`.\n",
    "deviceGroups_devices = []\n",
    "for deviceGrp in deviceGroups['groups']:\n",
    "    deviceGrpId = deviceGrp['id']\n",
    "    _devices = req_librenms(f\"/devicegroups/{deviceGrpId}\")\n",
    "    _devices = _devices['devices']\n",
    "    for _device in _devices:\n",
    "        _device['device_group_id'] = deviceGrpId\n",
    "    deviceGroups_devices.extend(_devices)\n",
    "deviceGroups_devices_df = pd.DataFrame(deviceGroups_devices)\n",
    "\n",
    "ports = req_librenms('/ports?columns=device_id,port_id')\n",
    "ports_df = pd.DataFrame(ports['ports'])\n",
    "\n",
    "portGroups = req_librenms('/port_groups')\n",
    "portGroups_df = pd.DataFrame(portGroups['groups'])\n",
    "portGroups_df.rename(\n",
    "    columns={'id': 'port_group_id', 'name': 'port_group_name'},\n",
    "    inplace=True)\n",
    "portGroups_df.drop(columns='desc')\n",
    "\n",
    "# To avoid this n+1 querying, we could `select * from librenms.port_group_port;`.\n",
    "portGroups_ports = []\n",
    "for portGrp in portGroups['groups']:\n",
    "    portGrpId = portGrp['id']\n",
    "    _ports = req_librenms(f\"/port_groups/{portGrpId}\")\n",
    "    _ports = _ports['ports']\n",
    "    for _port in _ports:\n",
    "        _port['port_group_id'] = portGrpId\n",
    "    portGroups_ports.extend(_ports)\n",
    "portGroups_ports_df = pd.DataFrame(portGroups_ports)"
   ]
  },
  {
   "cell_type": "markdown",
   "id": "1c9ae64a",
   "metadata": {},
   "source": [
    "### Extract relationships out of metadata."
   ]
  },
  {
   "cell_type": "code",
   "execution_count": null,
   "id": "156b37a5",
   "metadata": {},
   "outputs": [],
   "source": [
    "meta_df = (\n",
    "    devices_df\n",
    "    .merge(deviceGroups_devices_df, on='device_id', how='left')\n",
    "    .merge(devieGroups_df, on='device_group_id', how='left')\n",
    "    .merge(ports_df, on='device_id')\n",
    "    .merge(portGroups_ports_df, on='port_id', how='left')\n",
    "    .merge(portGroups_df, on='port_group_id', how='left')\n",
    ")"
   ]
  },
  {
   "cell_type": "code",
   "execution_count": null,
   "id": "a3c1a0fc",
   "metadata": {},
   "outputs": [],
   "source": [
    "librenms_meta_utils.write_meta(meta_df)\n",
    "# There is this error: RuntimeWarning: invalid value encountered in cast\n",
    "# It's not clear where this is coming from. Is it the integer columns which become floats upon merge()ing?\n",
    "# Data are intact, so we can ignore it, for now."
   ]
  },
  {
   "cell_type": "code",
   "execution_count": null,
   "id": "e5f24c0c",
   "metadata": {},
   "outputs": [],
   "source": [
    "librenms_meta_utils.read_meta()"
   ]
  },
  {
   "cell_type": "code",
   "execution_count": null,
   "id": "3ae000b9",
   "metadata": {},
   "outputs": [],
   "source": []
  }
 ],
 "metadata": {
  "kernelspec": {
   "display_name": "Python 3 (ipykernel)",
   "language": "python",
   "name": "python3"
  },
  "language_info": {
   "codemirror_mode": {
    "name": "ipython",
    "version": 3
   },
   "file_extension": ".py",
   "mimetype": "text/x-python",
   "name": "python",
   "nbconvert_exporter": "python",
   "pygments_lexer": "ipython3",
   "version": "3.11.1"
  }
 },
 "nbformat": 4,
 "nbformat_minor": 5
}
