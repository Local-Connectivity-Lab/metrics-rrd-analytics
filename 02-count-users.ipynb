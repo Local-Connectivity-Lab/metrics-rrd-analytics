{
 "cells": [
  {
   "cell_type": "code",
   "execution_count": null,
   "id": "3ed227bf",
   "metadata": {},
   "outputs": [],
   "source": [
    "%matplotlib inline\n",
    "\n",
    "%load_ext autoreload\n",
    "%autoreload 2\n",
    "\n",
    "## Non-std libs\n",
    "import matplotlib.pyplot as plt\n",
    "\n",
    "## Local libs\n",
    "from scn_rrd import rrd_utils, rrd_meta_utils"
   ]
  },
  {
   "cell_type": "markdown",
   "id": "f1262c14",
   "metadata": {},
   "source": [
    "### Count users by counting UEs"
   ]
  },
  {
   "cell_type": "code",
   "execution_count": null,
   "id": "be8168d8",
   "metadata": {},
   "outputs": [],
   "source": [
    "class At_eNB:\n",
    "    def __init__(self):\n",
    "        self.locations = [\n",
    "            'FCS',\n",
    "            'sps-franklin',\n",
    "        ]\n",
    "        \n",
    "        self.meta = rrd_meta_utils.read_meta()\n",
    "        self.meta = self.meta[\n",
    "            ( self.meta['location'].isin(self.locations) ) &\n",
    "            ( self.meta['device_group_name'] == 'eNB' )\n",
    "        ]\n",
    "        self.deviceHostnames = self.meta['hostname'].unique()\n",
    "    \n",
    "    def read_rrds(self):\n",
    "        self.deviceHostname_to_df = rrd_utils.read_rrds(\n",
    "            self.deviceHostnames,\n",
    "            rrd_meta_utils.ENB_DEVICE_RRD_FILENAMES.clients,\n",
    "            '-6month'\n",
    "        )"
   ]
  },
  {
   "cell_type": "code",
   "execution_count": null,
   "id": "5a8bd7e4",
   "metadata": {},
   "outputs": [],
   "source": [
    "at_enb = At_eNB()"
   ]
  },
  {
   "cell_type": "code",
   "execution_count": null,
   "id": "990baa61",
   "metadata": {},
   "outputs": [],
   "source": [
    "at_enb.read_rrds()\n",
    "# Right now, BaicellsNova436Q devices do not have wireless-sensor-clients-rts-1.rrd.\n",
    "# If we see stderr here, this is expected."
   ]
  },
  {
   "cell_type": "markdown",
   "id": "77bb3195",
   "metadata": {},
   "source": [
    "### Count users by DHCP"
   ]
  },
  {
   "cell_type": "code",
   "execution_count": null,
   "id": "fb0ea02c",
   "metadata": {},
   "outputs": [],
   "source": [
    "class At_DHCP:\n",
    "    def __init__(self):\n",
    "        self.locations = [\n",
    "            'nickelsville-cd',\n",
    "            'northlake',\n",
    "        ]\n",
    "        \n",
    "        self.meta = rrd_meta_utils.read_meta()\n",
    "        self.meta = self.meta[\n",
    "            ( self.meta['location'].isin(self.locations) ) &\n",
    "            ( self.meta['hostname'].str.contains('Gateway', case=False) ) &\n",
    "            ( self.meta['hostname'].str.contains('hEXS', case=False) )\n",
    "        ]\n",
    "        self.deviceHostnames = self.meta['hostname'].unique()\n",
    "    \n",
    "    def read_rrds(self):\n",
    "        self.deviceHostname_to_df = rrd_utils.read_rrds(\n",
    "            self.deviceHostnames,\n",
    "            rrd_meta_utils.MIKROTIK_DEVICE_RRD_FILENAMES.clients,\n",
    "            '-6month'\n",
    "        )"
   ]
  },
  {
   "cell_type": "code",
   "execution_count": null,
   "id": "5df93dbb",
   "metadata": {},
   "outputs": [],
   "source": [
    "at_dhcp = At_DHCP()"
   ]
  },
  {
   "cell_type": "code",
   "execution_count": null,
   "id": "cc19d963",
   "metadata": {},
   "outputs": [],
   "source": [
    "at_dhcp.read_rrds()"
   ]
  },
  {
   "cell_type": "markdown",
   "id": "fba33130",
   "metadata": {},
   "source": [
    "### Plot"
   ]
  },
  {
   "cell_type": "code",
   "execution_count": null,
   "id": "285260d9",
   "metadata": {},
   "outputs": [],
   "source": [
    "(fig, ax) = plt.subplots()\n",
    "for (deviceHostname, df) in at_enb.deviceHostname_to_df.items():\n",
    "    ax.plot(df['time'], df['sensor'], label=deviceHostname)\n",
    "for (deviceHostname, df) in at_dhcp.deviceHostname_to_df.items():\n",
    "    ax.plot(df['time'], df['leases'], label=deviceHostname)\n",
    "ax.set_title('Count of users')\n",
    "ax.legend()"
   ]
  },
  {
   "cell_type": "code",
   "execution_count": null,
   "id": "35e2cd97",
   "metadata": {},
   "outputs": [],
   "source": []
  }
 ],
 "metadata": {
  "kernelspec": {
   "display_name": "Python 3 (ipykernel)",
   "language": "python",
   "name": "python3"
  },
  "language_info": {
   "codemirror_mode": {
    "name": "ipython",
    "version": 3
   },
   "file_extension": ".py",
   "mimetype": "text/x-python",
   "name": "python",
   "nbconvert_exporter": "python",
   "pygments_lexer": "ipython3",
   "version": "3.11.1"
  }
 },
 "nbformat": 4,
 "nbformat_minor": 5
}
