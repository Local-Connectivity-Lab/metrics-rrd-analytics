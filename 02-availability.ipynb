{
 "cells": [
  {
   "cell_type": "code",
   "execution_count": null,
   "id": "5c0edc49",
   "metadata": {},
   "outputs": [],
   "source": [
    "%matplotlib inline\n",
    "\n",
    "%load_ext autoreload\n",
    "%autoreload 2\n",
    "\n",
    "## Non-std libs\n",
    "import matplotlib.pyplot as plt\n",
    "\n",
    "## Local modules\n",
    "from scn_rrd import rrd_meta_utils, rrd_utils"
   ]
  },
  {
   "cell_type": "code",
   "execution_count": null,
   "id": "64dec4d1",
   "metadata": {},
   "outputs": [],
   "source": [
    "# Hostnames gathered manually since there are only a few\n",
    "cell_site_hostnames_to_pretty_names = {\n",
    "    'FCS-EPC': 'FCS',\n",
    "    'Franklin-EPC': 'Franklin HS',\n",
    "    'OCC-EPC': 'Oromo CC',\n",
    "    'Garfield-EPC': 'Garfield HS',\n",
    "}\n",
    "\n",
    "user_site_hostnames_to_pretty_names = {\n",
    "    'Southend-CPEGateway-Omni': 'LIHI Southend',\n",
    "    'CD-CPEGateway-Omni': 'Nickelsville CD',\n",
    "}\n",
    "\n",
    "wifi_site_hostnames_to_pretty_names = {\n",
    "    'CD-BackhaulGateway-hEXS': 'Nickelsville CD',\n",
    "    'Northlake-BackhaulGateway-hEXS': 'Nickelsville Northlake',\n",
    "}"
   ]
  },
  {
   "cell_type": "code",
   "execution_count": null,
   "id": "3ae69873",
   "metadata": {},
   "outputs": [],
   "source": [
    "cell_site_dfs = rrd_utils.read_rrds(\n",
    "    cell_site_hostnames_to_pretty_names.keys(),\n",
    "    rrd_meta_utils.DEVICE_AGNOSTIC_RRD_FILENAMES.avail_weekly,\n",
    "    '-2week',\n",
    ")\n",
    "\n",
    "user_site_dfs = rrd_utils.read_rrds(\n",
    "    user_site_hostnames_to_pretty_names.keys(),\n",
    "    rrd_meta_utils.DEVICE_AGNOSTIC_RRD_FILENAMES.avail_weekly,\n",
    "    '-2week',\n",
    ")\n",
    "\n",
    "wifi_site_dfs = rrd_utils.read_rrds(\n",
    "    wifi_site_hostnames_to_pretty_names.keys(),\n",
    "    rrd_meta_utils.DEVICE_AGNOSTIC_RRD_FILENAMES.avail_weekly,\n",
    "    '-2week',\n",
    ")"
   ]
  },
  {
   "cell_type": "code",
   "execution_count": null,
   "id": "0384d6e1",
   "metadata": {},
   "outputs": [],
   "source": [
    "# Cell Site Plot\n",
    "(fig, ax) = plt.subplots(figsize=(12,6))\n",
    "for (host, df) in cell_site_dfs.items():\n",
    "    ax.scatter(df['time'], df['availability'], label=cell_site_hostnames_to_pretty_names[host])\n",
    "ax.set_title('Cell Site Availability')\n",
    "ax.set_ylabel('Percentage')\n",
    "ax.tick_params(axis='x', labelrotation=90)\n",
    "ax.legend()\n",
    "None # Hide stdout output of the above line"
   ]
  },
  {
   "cell_type": "code",
   "execution_count": null,
   "id": "9d656756",
   "metadata": {},
   "outputs": [],
   "source": [
    "# CPE User Site Plot\n",
    "(fig, ax) = plt.subplots(figsize=(12,6))\n",
    "for (host, df) in user_site_dfs.items():\n",
    "    ax.scatter(df['time'], df['availability'], label=user_site_hostnames_to_pretty_names[host])\n",
    "ax.set_title('CPE User Site Availability')\n",
    "ax.set_ylabel('Percentage')\n",
    "ax.tick_params(axis='x', labelrotation=90)\n",
    "ax.legend()\n",
    "None # Hide stdout output of the above line"
   ]
  },
  {
   "cell_type": "code",
   "execution_count": null,
   "id": "8d74324c",
   "metadata": {},
   "outputs": [],
   "source": [
    "# Wifi Site Plot\n",
    "(fig, ax) = plt.subplots(figsize=(12,6))\n",
    "for (host, df) in wifi_site_dfs.items():\n",
    "    ax.scatter(df['time'], df['availability'], label=wifi_site_hostnames_to_pretty_names[host])\n",
    "ax.set_title('Wifi Site Availability')\n",
    "ax.set_ylabel('Percentage')\n",
    "ax.tick_params(axis='x', labelrotation=90)\n",
    "ax.legend()\n",
    "None # Hide stdout output of the above line"
   ]
  },
  {
   "cell_type": "code",
   "execution_count": null,
   "id": "ac0523b8",
   "metadata": {},
   "outputs": [],
   "source": []
  }
 ],
 "metadata": {
  "kernelspec": {
   "display_name": "Python 3 (ipykernel)",
   "language": "python",
   "name": "python3"
  },
  "language_info": {
   "codemirror_mode": {
    "name": "ipython",
    "version": 3
   },
   "file_extension": ".py",
   "mimetype": "text/x-python",
   "name": "python",
   "nbconvert_exporter": "python",
   "pygments_lexer": "ipython3",
   "version": "3.11.1"
  }
 },
 "nbformat": 4,
 "nbformat_minor": 5
}
