{
 "cells": [
  {
   "cell_type": "code",
   "execution_count": null,
   "id": "5c0edc49",
   "metadata": {},
   "outputs": [],
   "source": [
    "%matplotlib inline\n",
    "\n",
    "%load_ext autoreload\n",
    "%autoreload 2\n",
    "\n",
    "## Non-std libs\n",
    "import matplotlib.pyplot as plt\n",
    "\n",
    "## Local modules\n",
    "from scn_rrd import rrd_meta_utils, rrd_utils"
   ]
  },
  {
   "cell_type": "code",
   "execution_count": null,
   "id": "64dec4d1",
   "metadata": {},
   "outputs": [],
   "source": [
    "epc_locations = [\n",
    "    'FCS',\n",
    "    'nickelsville-cd',\n",
    "    'northlake',\n",
    "    'occ-oromo',\n",
    "    'sps-franklin',\n",
    "    'sps-garfield',\n",
    "]\n",
    "lte_locations = [\n",
    "    'lihi-southend',\n",
    "    'nickelsville-cd',\n",
    "]\n",
    "\n",
    "meta = rrd_meta_utils.read_meta()\n",
    "meta = meta[\n",
    "    (\n",
    "        ( meta['location'].isin(epc_locations) ) &\n",
    "        ( meta['device_group_name'].isin(['EPC', 'Backhaul gateway']) )\n",
    "    ) |\n",
    "    (\n",
    "        ( meta['location'].isin(lte_locations) ) &\n",
    "        ( meta['device_group_name'] == '' )\n",
    "    )\n",
    "]\n",
    "deviceHostnames = meta['hostname'].unique()"
   ]
  },
  {
   "cell_type": "code",
   "execution_count": null,
   "id": "3ae69873",
   "metadata": {},
   "outputs": [],
   "source": [
    "deviceHostname_to_df = rrd_utils.read_rrds(\n",
    "    deviceHostnames,\n",
    "    rrd_meta_utils.DEVICE_AGNOSTIC_RRD_FILENAMES.avail_weekly,\n",
    "    '-2month',\n",
    ")"
   ]
  },
  {
   "cell_type": "code",
   "execution_count": null,
   "id": "0384d6e1",
   "metadata": {},
   "outputs": [],
   "source": [
    "(fig, ax) = plt.subplots(figsize=(12,6))\n",
    "for (deviceHostname, df) in deviceHostname_to_df.items():\n",
    "    ax.plot(df['time'], df['availability'], label=deviceHostname)\n",
    "ax.set_title('Availability')\n",
    "ax.set_ylabel('Percentage')\n",
    "ax.tick_params(axis='x', labelrotation=90)\n",
    "ax.legend()"
   ]
  },
  {
   "cell_type": "code",
   "execution_count": null,
   "id": "9d656756",
   "metadata": {},
   "outputs": [],
   "source": []
  }
 ],
 "metadata": {
  "kernelspec": {
   "display_name": "Python 3 (ipykernel)",
   "language": "python",
   "name": "python3"
  },
  "language_info": {
   "codemirror_mode": {
    "name": "ipython",
    "version": 3
   },
   "file_extension": ".py",
   "mimetype": "text/x-python",
   "name": "python",
   "nbconvert_exporter": "python",
   "pygments_lexer": "ipython3",
   "version": "3.11.1"
  }
 },
 "nbformat": 4,
 "nbformat_minor": 5
}
