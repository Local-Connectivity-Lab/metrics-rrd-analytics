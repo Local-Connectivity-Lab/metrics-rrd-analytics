{
 "cells": [
  {
   "cell_type": "code",
   "execution_count": null,
   "id": "31a6f275",
   "metadata": {},
   "outputs": [],
   "source": [
    "%load_ext autoreload\n",
    "%autoreload 2\n",
    "\n",
    "## Non-std libs\n",
    "import pandas as pd\n",
    "import requests\n",
    "\n",
    "## Local libs\n",
    "from scn_rrd import rrd_utils"
   ]
  },
  {
   "cell_type": "markdown",
   "id": "6f6a770b",
   "metadata": {},
   "source": [
    "### Retrieve metadata about devices and ports, via LibreNMS's api.\n",
    "\n",
    "Essentially we want to dump a portion of LibreNMS's mysql into pandas DataFrames."
   ]
  },
  {
   "cell_type": "code",
   "execution_count": null,
   "id": "b2c12543",
   "metadata": {},
   "outputs": [],
   "source": [
    "api_url_pfx = f\"http://{rrd_utils.DOTENV_ENTRIES['NMS_HOST_NAME']}/api/v0\"\n",
    "api_headers = {\n",
    "    'Authorization': f\"Bearer {rrd_utils.DOTENV_ENTRIES['LIBRENMS_API_TOKEN']}\"\n",
    "}\n",
    "def req_librenms(api_url_sfx: str):\n",
    "    resp = requests.get(f'{api_url_pfx}{api_url_sfx}', headers=api_headers)\n",
    "    assert resp.status_code == 200\n",
    "    return resp.json()\n",
    "\n",
    "devices = req_librenms('/devices')['devices']\n",
    "devices_df = pd.DataFrame(devices)\n",
    "\n",
    "ports = req_librenms('/ports?columns=device_id,port_id')['ports']\n",
    "ports_df = pd.DataFrame(ports)\n",
    "\n",
    "portGroups = req_librenms('/port_groups')['groups']\n",
    "portGroups_df = pd.DataFrame(portGroups)\n",
    "portGroups_df.rename(columns={'id': 'port_group_id'}, inplace=True)\n",
    "\n",
    "portGroups_ports = []\n",
    "for portGrp in portGroups:\n",
    "    portGrpId = portGrp['id']\n",
    "    _ports = req_librenms(f\"/port_groups/{portGrpId}\")['ports']\n",
    "    for _port in _ports:\n",
    "        _port['port_group_id'] = portGrpId\n",
    "    portGroups_ports.extend(_ports)\n",
    "    # To avoid this n+1 querying, we could `select * from librenms.port_group_port;`.\n",
    "portGroups_ports_df = pd.DataFrame(portGroups_ports)"
   ]
  },
  {
   "cell_type": "markdown",
   "id": "1c9ae64a",
   "metadata": {},
   "source": [
    "### Extract relationships out of metadata."
   ]
  },
  {
   "cell_type": "code",
   "execution_count": null,
   "id": "156b37a5",
   "metadata": {},
   "outputs": [],
   "source": [
    "devices_ports_portGrps_df = (\n",
    "    devices_df[['device_id', 'hostname', 'location']] \n",
    "    .merge(ports_df, on='device_id')\n",
    "    .merge(portGroups_ports_df, on='port_id', how='left')\n",
    "    .merge(\n",
    "        portGroups_df.drop(columns='desc').rename(columns={'name': 'port_group_name'}),\n",
    "        on='port_group_id',\n",
    "        how='left')\n",
    ")\n",
    "devices_ports_portGrps_df['port_rrd_filename'] = [\n",
    "    f\"port-id{row['port_id']}.rrd\"\n",
    "    for (_, row) in devices_ports_portGrps_df.iterrows()\n",
    "]"
   ]
  },
  {
   "cell_type": "code",
   "execution_count": null,
   "id": "a3c1a0fc",
   "metadata": {},
   "outputs": [],
   "source": [
    "rrd_utils.write_devices_ports(devices_ports_portGrps_df)"
   ]
  },
  {
   "cell_type": "code",
   "execution_count": null,
   "id": "e5f24c0c",
   "metadata": {},
   "outputs": [],
   "source": [
    "rrd_utils.read_devices_ports()"
   ]
  },
  {
   "cell_type": "code",
   "execution_count": null,
   "id": "069a2c0d",
   "metadata": {},
   "outputs": [],
   "source": []
  }
 ],
 "metadata": {
  "kernelspec": {
   "display_name": "Python 3 (ipykernel)",
   "language": "python",
   "name": "python3"
  },
  "language_info": {
   "codemirror_mode": {
    "name": "ipython",
    "version": 3
   },
   "file_extension": ".py",
   "mimetype": "text/x-python",
   "name": "python",
   "nbconvert_exporter": "python",
   "pygments_lexer": "ipython3",
   "version": "3.11.1"
  }
 },
 "nbformat": 4,
 "nbformat_minor": 5
}
